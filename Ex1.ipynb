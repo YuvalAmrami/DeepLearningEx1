{
 "cells": [
  {
   "cell_type": "code",
   "execution_count": 1,
   "id": "4ce996ac",
   "metadata": {},
   "outputs": [],
   "source": [
    "# Install a conda package in the current Jupyter kernel\n",
    "import sys"
   ]
  },
  {
   "cell_type": "code",
   "execution_count": null,
   "id": "80ea6322",
   "metadata": {},
   "outputs": [],
   "source": [
    "!conda install --yes --prefix {sys.prefix} numpy"
   ]
  },
  {
   "cell_type": "code",
   "execution_count": 22,
   "id": "c40cec3f",
   "metadata": {},
   "outputs": [],
   "source": [
    "import numpy as np\n",
    "\n",
    "class softmax_layer:\n",
    "    def dim_in(self):\n",
    "        return 0\n",
    "    \n",
    "    def dim_out(self):\n",
    "        return 0\n",
    "    \n",
    "    def update_weigths(self, gradient, learning_rate):\n",
    "        return gradient\n",
    "    \n",
    "    def __call__(self, x):\n",
    "        #exp = np.exp(x.T - np.max(x, axis=1))\n",
    "        exp = np.exp(x)\n",
    "        return (exp.T / np.sum(exp, axis=1))"
   ]
  },
  {
   "cell_type": "code",
   "execution_count": 23,
   "id": "7542682d",
   "metadata": {},
   "outputs": [],
   "source": [
    "class linear_layer:\n",
    "    def __init__(self, dim_in, dim_out):\n",
    "        self._A = np.random.rand(dim_in,dim_out)\n",
    "        self._B = np.random.rand(dim_out)\n",
    "        self._dim_in = dim_in\n",
    "        self._dim_out = dim_out\n",
    "        \n",
    "    def update_weigths(self, gradient, learning_rate):\n",
    "        self._A = self._A - learning_rate * gradient\n",
    "        return gradient\n",
    "    \n",
    "    def dim_in(self):\n",
    "        return self._dim_in\n",
    "    \n",
    "    def dim_out(self):\n",
    "        return self._dim_out\n",
    "    \n",
    "    def __call__(self, x):\n",
    "        return x.T.dot(self._A) + self._B"
   ]
  },
  {
   "cell_type": "code",
   "execution_count": 24,
   "id": "df9200ad",
   "metadata": {},
   "outputs": [],
   "source": [
    "def cross_entropy_loss(y_true, y_predicted, epsilon=1e-10):\n",
    "    predictions = np.clip(y_predicted, epsilon, 1. - epsilon)\n",
    "    M = predictions.shape[1]\n",
    "    return -np.sum(y_true * np.log(predictions)) / M"
   ]
  },
  {
   "cell_type": "code",
   "execution_count": 25,
   "id": "35270e77",
   "metadata": {},
   "outputs": [],
   "source": [
    "class sequential_model:\n",
    "    def __init__(self, *layers, learning_rate=0.1):\n",
    "        self._learning_rate = learning_rate\n",
    "        self._layers = []\n",
    "        last_dim_out = 0\n",
    "        for layer in layers:\n",
    "            if last_dim_out != 0 and layer.dim_in() != 0 and last_dim_out != layer.dim_in():\n",
    "                print('dimension dont match layer out dim {} , next layer dim in {}'.format(last_dim_out, layer.dim_in()))\n",
    "                raise \n",
    "            self._layers.append(layer)\n",
    "            if layer.dim_out() != 0:\n",
    "                last_dim_out = layer.dim_out()\n",
    "                \n",
    "    def update_weigths(self, gradient):\n",
    "        for layer in reversed(self._layers):\n",
    "            gradient = layer.update_weigths(gradient, self._learning_rate)\n",
    "            \n",
    "    def __call__(self, x):\n",
    "        for layer in self._layers:\n",
    "            x = layer(x)\n",
    "        return x"
   ]
  },
  {
   "cell_type": "code",
   "execution_count": 59,
   "id": "a5f53761",
   "metadata": {},
   "outputs": [],
   "source": [
    "model = sequential_model(\n",
    "        linear_layer(2, 5),\n",
    "        softmax_layer()\n",
    "        )"
   ]
  },
  {
   "cell_type": "code",
   "execution_count": 60,
   "id": "f35fef72",
   "metadata": {},
   "outputs": [
    {
     "name": "stdout",
     "output_type": "stream",
     "text": [
      "Collecting package metadata (current_repodata.json): ...working... done\n",
      "Solving environment: ...working... done\n",
      "\n",
      "# All requested packages already installed.\n",
      "\n"
     ]
    },
    {
     "name": "stderr",
     "output_type": "stream",
     "text": [
      "\n",
      "\n",
      "==> WARNING: A newer version of conda exists. <==\n",
      "  current version: 4.9.1\n",
      "  latest version: 4.9.2\n",
      "\n",
      "Please update conda by running\n",
      "\n",
      "    $ conda update -n base -c defaults conda\n",
      "\n",
      "\n"
     ]
    }
   ],
   "source": [
    "!conda install --yes --prefix {sys.prefix} scipy"
   ]
  },
  {
   "cell_type": "code",
   "execution_count": 61,
   "id": "84ff00da",
   "metadata": {},
   "outputs": [],
   "source": [
    "import scipy.io\n",
    "mat = scipy.io.loadmat('PeaksData.mat')"
   ]
  },
  {
   "cell_type": "code",
   "execution_count": 62,
   "id": "e8ab9901",
   "metadata": {},
   "outputs": [
    {
     "name": "stdout",
     "output_type": "stream",
     "text": [
      "(2, 25000)\n"
     ]
    }
   ],
   "source": [
    "X = mat['Yt']\n",
    "Y = mat['Ct']\n",
    "print(X.shape)"
   ]
  },
  {
   "cell_type": "code",
   "execution_count": 63,
   "id": "f3f03c28",
   "metadata": {},
   "outputs": [
    {
     "name": "stdout",
     "output_type": "stream",
     "text": [
      "(5, 25000)\n",
      "(5, 25000)\n",
      "[[0.08504091 0.29248734 0.07763734 0.24029661 0.3045378 ]\n",
      " [0.10956353 0.25837147 0.10096388 0.25430699 0.27679414]\n",
      " [0.09325683 0.25880204 0.06470095 0.19677264 0.38646755]\n",
      " ...\n",
      " [0.33878784 0.07633619 0.25473658 0.19541057 0.13472882]\n",
      " [0.3564569  0.07457265 0.22968711 0.17887212 0.16041122]\n",
      " [0.33281815 0.08300564 0.23201192 0.19308644 0.15907785]]\n"
     ]
    }
   ],
   "source": [
    "Y_predicted = model(X)\n",
    "print(Y.shape)\n",
    "print(Y_predicted.shape)\n",
    "print(Y_predicted.T)"
   ]
  },
  {
   "cell_type": "code",
   "execution_count": 64,
   "id": "ea835c59",
   "metadata": {},
   "outputs": [
    {
     "name": "stdout",
     "output_type": "stream",
     "text": [
      "1.9246168286286058\n"
     ]
    }
   ],
   "source": [
    "print(cross_entropy_loss(Y, Y_predicted))"
   ]
  },
  {
   "cell_type": "code",
   "execution_count": 65,
   "id": "c3be99a7",
   "metadata": {},
   "outputs": [],
   "source": [
    "def softmax_gradient(X, Y_true, Y_predicted):\n",
    "    M = X.shape[1]\n",
    "    grad = Y_predicted - Y_true\n",
    "    return 1/M * X.dot((Y_predicted - Y_true).T)"
   ]
  },
  {
   "cell_type": "code",
   "execution_count": 66,
   "id": "d345491f",
   "metadata": {},
   "outputs": [],
   "source": [
    "def accuracy(Y_true, Y_predicted):\n",
    "    return np.sum(np.argmax(Y_true, axis=0) == np.argmax(Y_predicted, axis=0)) / Y_true.shape[1]"
   ]
  },
  {
   "cell_type": "code",
   "execution_count": 67,
   "id": "a697c95c",
   "metadata": {},
   "outputs": [
    {
     "name": "stdout",
     "output_type": "stream",
     "text": [
      "[[-0.10086099  0.15673442  0.02754784 -0.011042   -0.07237927]\n",
      " [ 0.5066956   0.04248063  0.11719928 -0.18934192 -0.47703359]]\n",
      "0.12052\n"
     ]
    }
   ],
   "source": [
    "print(softmax_gradient(X, Y, Y_predicted))\n",
    "print(accuracy(Y, Y_predicted))\n",
    "\n",
    "def SGD(model, X, Y, epoch):\n",
    "    loss = []\n",
    "    accuracy_sgd = []\n",
    "    for i in range(epoch):\n",
    "        Y_predicted = model(X)\n",
    "        gradient = softmax_gradient(X, Y, Y_predicted)\n",
    "        model.update_weigths(gradient)\n",
    "        accuracy_sgd.append(accuracy(Y, Y_predicted))\n",
    "        loss.append(cross_entropy_loss(Y, Y_predicted))\n",
    "    return loss, accuracy_sgd"
   ]
  },
  {
   "cell_type": "code",
   "execution_count": 68,
   "id": "a75e1f75",
   "metadata": {},
   "outputs": [
    {
     "data": {
      "image/png": "[encoded data removed]",
      "text/plain": [
       "<Figure size 720x432 with 2 Axes>"
      ]
     },
     "metadata": {
      "needs_background": "light"
     },
     "output_type": "display_data"
    }
   ],
   "source": [
    "import matplotlib.pyplot as plt\n",
    "\n",
    "model_loss, model_accuracy = SGD(model, X, Y, 1000)\n",
    "\n",
    "#fig = plt.figure(figsize=(10,6))\n",
    "\n",
    "fig, axs = plt.subplots(2, figsize=(10,6))\n",
    "axs[0].plot(model_loss)\n",
    "axs[0].set_ylabel('loss')\n",
    "\n",
    "axs[1].plot(model_accuracy)\n",
    "axs[1].set_ylabel('accuracy')\n",
    "\n",
    "plt.show()"
   ]
  },
  {
   "cell_type": "code",
   "execution_count": null,
   "id": "188a3170",
   "metadata": {},
   "outputs": [],
   "source": []
  }
 ],
 "metadata": {
  "kernelspec": {
   "display_name": "Python 3",
   "language": "python",
   "name": "python3"
  },
  "language_info": {
   "codemirror_mode": {
    "name": "ipython",
    "version": 3
   },
   "file_extension": ".py",
   "mimetype": "text/x-python",
   "name": "python",
   "nbconvert_exporter": "python",
   "pygments_lexer": "ipython3",
   "version": "3.6.13"
  }
 },
 "nbformat": 4,
 "nbformat_minor": 5
}
