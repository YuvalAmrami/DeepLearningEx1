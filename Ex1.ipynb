{
 "cells": [
  {
   "cell_type": "code",
   "execution_count": 1,
   "id": "8561df75",
   "metadata": {},
   "outputs": [],
   "source": [
    "# Install a conda package in the current Jupyter kernel\n",
    "import sys"
   ]
  },
  {
   "cell_type": "code",
   "execution_count": null,
   "id": "c12cf0b1",
   "metadata": {},
   "outputs": [],
   "source": [
    "!conda install --yes --prefix {sys.prefix} numpy"
   ]
  },
  {
   "cell_type": "code",
   "execution_count": 949,
   "id": "a9bf49b0",
   "metadata": {},
   "outputs": [],
   "source": [
    "import numpy as np\n",
    "\n",
    "class softmax:\n",
    "    def gradient(self, X, Y, error, W):\n",
    "        M = X.shape[1]\n",
    "        grad_theta = 1/M * X.dot(error.T)\n",
    "        grad_b = 1/M * np.sum(error, axis=1)\n",
    "        grad_data = 1/M * W.dot(error)\n",
    "        return grad_theta, grad_b, grad_data\n",
    "        \n",
    "    def __call__(self, x):\n",
    "        exp = np.exp(x)\n",
    "        return (exp / np.sum(exp, axis=0))"
   ]
  },
  {
   "cell_type": "code",
   "execution_count": 950,
   "id": "77777280",
   "metadata": {},
   "outputs": [],
   "source": [
    "class tanh:\n",
    "    def gradient(self, X, Y, error, W):\n",
    "        error = (1- Y**2) * error\n",
    "        grad_theta = X.dot(error.T)\n",
    "        grad_b = np.sum(error, axis=1)\n",
    "        grad_data = W.dot(error)\n",
    "        return grad_theta, grad_b, grad_data\n",
    "        \n",
    "    def __call__(self, x):\n",
    "        return np.tanh(x)"
   ]
  },
  {
   "cell_type": "code",
   "execution_count": 951,
   "id": "f43c9b0c",
   "metadata": {},
   "outputs": [],
   "source": [
    "class linear_layer:\n",
    "    def __init__(self, dim_in, dim_out, activation=tanh()):\n",
    "        self._A = np.random.rand(dim_in,dim_out)\n",
    "        self._B = np.random.rand(dim_out, 1)\n",
    "        self._activation = activation\n",
    "        self._dim_in = dim_in\n",
    "        self._dim_out = dim_out\n",
    "        \n",
    "    def update_weigths(self, gradient_theta, gradient_b, learning_rate):\n",
    "        gradient_b = gradient_b.reshape(self._dim_out, 1)\n",
    "        self._A = self._A - learning_rate * gradient_theta\n",
    "        self._B = self._B - learning_rate * gradient_b\n",
    "    \n",
    "    def gradient(self, X, Y, error):\n",
    "        return self._activation.gradient(X, Y, error, self._A)\n",
    "    \n",
    "    def dim_in(self):\n",
    "        return self._dim_in\n",
    "    \n",
    "    def dim_out(self):\n",
    "        return self._dim_out\n",
    "    \n",
    "    def __call__(self, x):\n",
    "        return self._activation(self._A.T.dot(x) + self._B)"
   ]
  },
  {
   "cell_type": "code",
   "execution_count": 952,
   "id": "d0cf81df",
   "metadata": {},
   "outputs": [],
   "source": [
    "def cross_entropy_loss(y_true, y_predicted, epsilon=1e-10):\n",
    "    predictions = np.clip(y_predicted, epsilon, 1. - epsilon)\n",
    "    M = predictions.shape[1]\n",
    "    return -np.sum(y_true * np.log(predictions)) / M"
   ]
  },
  {
   "cell_type": "code",
   "execution_count": 1105,
   "id": "341981b9",
   "metadata": {},
   "outputs": [],
   "source": [
    "class sequential_model:\n",
    "    def __init__(self, *layers, learning_rate=0.3):\n",
    "        self._learning_rate = learning_rate\n",
    "        self._layers = []\n",
    "        self._outputs = []\n",
    "        last_dim_out = 0\n",
    "        for layer in layers:\n",
    "            if last_dim_out != 0 and last_dim_out != layer.dim_in():\n",
    "                print('dimension dont match layer out dim {} , next layer dim in {}'.format(last_dim_out, layer.dim_in()))\n",
    "                raise \n",
    "            self._layers.append(layer)\n",
    "            last_dim_out = layer.dim_out()\n",
    "                \n",
    "    def update_weigths(self, Y_true):\n",
    "        error = self._outputs[-1] - Y_true\n",
    "        for i in range(1, len(self._layers) + 1):\n",
    "            X = self._outputs[-i - 1]\n",
    "            Y = self._outputs[-i]\n",
    "            gradient_theta, gradient_b, error = self._layers[-i].gradient(X, Y, error)\n",
    "            self._layers[-i].update_weigths(gradient_theta, gradient_b, self._learning_rate)\n",
    "            \n",
    "    def __call__(self, x):\n",
    "        new_x = np.array(x, copy=True) \n",
    "        self._outputs = []\n",
    "        self._outputs.append(new_x)\n",
    "        for layer in self._layers:\n",
    "            new_x = layer(new_x)\n",
    "            self._outputs.append(new_x)\n",
    "        return new_x"
   ]
  },
  {
   "cell_type": "code",
   "execution_count": 1106,
   "id": "02d8c67b",
   "metadata": {},
   "outputs": [],
   "source": [
    "model = sequential_model(\n",
    "        linear_layer(5, 8, activation=tanh()),\n",
    "        linear_layer(8, 16, activation=tanh()),\n",
    "        linear_layer(16, 5, activation=softmax())\n",
    "        )"
   ]
  },
  {
   "cell_type": "code",
   "execution_count": 1107,
   "id": "866430c7",
   "metadata": {},
   "outputs": [
    {
     "name": "stdout",
     "output_type": "stream",
     "text": [
      "Collecting package metadata (current_repodata.json): ...working... done\n",
      "Solving environment: ...working... done\n",
      "\n",
      "# All requested packages already installed.\n",
      "\n"
     ]
    },
    {
     "name": "stderr",
     "output_type": "stream",
     "text": [
      "\n",
      "\n",
      "==> WARNING: A newer version of conda exists. <==\n",
      "  current version: 4.9.1\n",
      "  latest version: 4.10.0\n",
      "\n",
      "Please update conda by running\n",
      "\n",
      "    $ conda update -n base -c defaults conda\n",
      "\n",
      "\n"
     ]
    }
   ],
   "source": [
    "!conda install --yes --prefix {sys.prefix} scipy"
   ]
  },
  {
   "cell_type": "code",
   "execution_count": 1108,
   "id": "bec6490c",
   "metadata": {},
   "outputs": [],
   "source": [
    "import scipy.io\n",
    "mat = scipy.io.loadmat('GMMData.mat')"
   ]
  },
  {
   "cell_type": "code",
   "execution_count": 1109,
   "id": "b79fe9cb",
   "metadata": {},
   "outputs": [
    {
     "name": "stdout",
     "output_type": "stream",
     "text": [
      "(5, 25000)\n",
      "(5, 25000)\n"
     ]
    }
   ],
   "source": [
    "X = mat['Yt']\n",
    "Y = mat['Ct']\n",
    "print(X.shape)\n",
    "print(Y.shape)"
   ]
  },
  {
   "cell_type": "code",
   "execution_count": 1110,
   "id": "f83378c8",
   "metadata": {},
   "outputs": [
    {
     "name": "stdout",
     "output_type": "stream",
     "text": [
      "(5, 25000)\n",
      "[1. 1. 1. ... 1. 1. 1.]\n"
     ]
    }
   ],
   "source": [
    "Y_predicted = model(X)\n",
    "print(Y_predicted.shape)\n",
    "print(Y_predicted.sum(axis=0))"
   ]
  },
  {
   "cell_type": "code",
   "execution_count": 1111,
   "id": "8c29002f",
   "metadata": {},
   "outputs": [
    {
     "name": "stdout",
     "output_type": "stream",
     "text": [
      "1.7205725078325886\n"
     ]
    }
   ],
   "source": [
    "print(cross_entropy_loss(Y, Y_predicted))"
   ]
  },
  {
   "cell_type": "code",
   "execution_count": 1112,
   "id": "13499df9",
   "metadata": {},
   "outputs": [],
   "source": [
    "def accuracy(Y_true, Y_predicted):\n",
    "    return np.sum(np.argmax(Y_true, axis=0) == np.argmax(Y_predicted, axis=0)) / Y_true.shape[1]"
   ]
  },
  {
   "cell_type": "code",
   "execution_count": 1113,
   "id": "1cc16c92",
   "metadata": {},
   "outputs": [],
   "source": [
    "def SGD(model, X, Y, epoch):\n",
    "    loss = []\n",
    "    accuracy_sgd = []\n",
    "    for i in range(epoch):\n",
    "        Y_predicted = model(X)\n",
    "        model.update_weigths(Y)\n",
    "        accuracy_sgd.append(accuracy(Y, Y_predicted))\n",
    "        loss.append(cross_entropy_loss(Y, Y_predicted))\n",
    "    return loss, accuracy_sgd"
   ]
  },
  {
   "cell_type": "code",
   "execution_count": 1114,
   "id": "48a58f38",
   "metadata": {},
   "outputs": [
    {
     "data": {
      "image/png": "[encoded data removed]",
      "text/plain": [
       "<Figure size 720x432 with 2 Axes>"
      ]
     },
     "metadata": {
      "needs_background": "light"
     },
     "output_type": "display_data"
    }
   ],
   "source": [
    "import matplotlib.pyplot as plt\n",
    "\n",
    "model_loss, model_accuracy = SGD(model, X, Y, 2000)\n",
    "\n",
    "#fig = plt.figure(figsize=(10,6))\n",
    "\n",
    "fig, axs = plt.subplots(2, figsize=(10,6))\n",
    "axs[0].plot(model_loss)\n",
    "axs[0].set_ylabel('loss')\n",
    "\n",
    "axs[1].plot(model_accuracy)\n",
    "axs[1].set_ylabel('accuracy')\n",
    "\n",
    "plt.show()"
   ]
  },
  {
   "cell_type": "code",
   "execution_count": 1083,
   "id": "6889747d",
   "metadata": {},
   "outputs": [],
   "source": [
    "def gradient_test(function, gradient, dim_in, dim_out):\n",
    "    x = np.random.rand(dim_in, 1)\n",
    "    d = np.random.rand(dim_in, 1)\n",
    "    without_jacobain = []\n",
    "    with_jacobain = []\n",
    "    for i in range(10):\n",
    "        e = np.power(0.5, i)\n",
    "        without_jacobain.append(np.linalg.norm(function(x + e*d) - function(x)))\n",
    "        with_jacobain.append(np.linalg.norm(function(x + e*d) - function(x) - e* d.T.dot(gradient(x)).T))\n",
    "    return without_jacobain, with_jacobain"
   ]
  },
  {
   "cell_type": "code",
   "execution_count": 1080,
   "id": "ded5bfe6",
   "metadata": {},
   "outputs": [],
   "source": [
    "def softmax_gradient(X, Y_true, Y_predicted):\n",
    "    M = X.shape[1]\n",
    "    grad = Y_predicted - Y_true\n",
    "    grad_theta = 1/M * X.dot((Y_predicted - Y_true).T)\n",
    "    return grad_theta"
   ]
  },
  {
   "cell_type": "code",
   "execution_count": 1081,
   "id": "c7661d8c",
   "metadata": {},
   "outputs": [
    {
     "ename": "ValueError",
     "evalue": "shapes (8,5) and (2,1) not aligned: 5 (dim 1) != 2 (dim 0)",
     "output_type": "error",
     "traceback": [
      "\u001b[1;31m---------------------------------------------------------------------------\u001b[0m",
      "\u001b[1;31mValueError\u001b[0m                                Traceback (most recent call last)",
      "\u001b[1;32m<ipython-input-1081-1da0ba7dcae9>\u001b[0m in \u001b[0;36m<module>\u001b[1;34m()\u001b[0m\n\u001b[1;32m----> 1\u001b[1;33m \u001b[0mbla\u001b[0m\u001b[1;33m,\u001b[0m \u001b[0mbla2\u001b[0m \u001b[1;33m=\u001b[0m \u001b[0mgradient_test\u001b[0m\u001b[1;33m(\u001b[0m\u001b[0mmodel\u001b[0m\u001b[1;33m,\u001b[0m \u001b[1;32mlambda\u001b[0m \u001b[0mx\u001b[0m \u001b[1;33m:\u001b[0m \u001b[0msoftmax_gradient\u001b[0m\u001b[1;33m(\u001b[0m\u001b[0mx\u001b[0m\u001b[1;33m,\u001b[0m \u001b[0mY\u001b[0m\u001b[1;33m[\u001b[0m\u001b[1;33m:\u001b[0m\u001b[1;33m,\u001b[0m\u001b[1;36m0\u001b[0m\u001b[1;33m]\u001b[0m\u001b[1;33m.\u001b[0m\u001b[0mreshape\u001b[0m\u001b[1;33m(\u001b[0m\u001b[1;36m5\u001b[0m\u001b[1;33m,\u001b[0m\u001b[1;36m1\u001b[0m\u001b[1;33m)\u001b[0m\u001b[1;33m,\u001b[0m \u001b[0mmodel\u001b[0m\u001b[1;33m(\u001b[0m\u001b[0mx\u001b[0m\u001b[1;33m)\u001b[0m\u001b[1;33m)\u001b[0m\u001b[1;33m,\u001b[0m \u001b[1;36m2\u001b[0m\u001b[1;33m,\u001b[0m \u001b[1;36m5\u001b[0m\u001b[1;33m)\u001b[0m\u001b[1;33m\u001b[0m\u001b[1;33m\u001b[0m\u001b[0m\n\u001b[0m\u001b[0;32m      2\u001b[0m \u001b[0mfig\u001b[0m\u001b[1;33m,\u001b[0m \u001b[0maxs\u001b[0m \u001b[1;33m=\u001b[0m \u001b[0mplt\u001b[0m\u001b[1;33m.\u001b[0m\u001b[0msubplots\u001b[0m\u001b[1;33m(\u001b[0m\u001b[1;36m2\u001b[0m\u001b[1;33m,\u001b[0m \u001b[0mfigsize\u001b[0m\u001b[1;33m=\u001b[0m\u001b[1;33m(\u001b[0m\u001b[1;36m14\u001b[0m\u001b[1;33m,\u001b[0m\u001b[1;36m14\u001b[0m\u001b[1;33m)\u001b[0m\u001b[1;33m)\u001b[0m\u001b[1;33m\u001b[0m\u001b[1;33m\u001b[0m\u001b[0m\n\u001b[0;32m      3\u001b[0m \u001b[0maxs\u001b[0m\u001b[1;33m[\u001b[0m\u001b[1;36m0\u001b[0m\u001b[1;33m]\u001b[0m\u001b[1;33m.\u001b[0m\u001b[0mplot\u001b[0m\u001b[1;33m(\u001b[0m\u001b[0mbla\u001b[0m\u001b[1;33m)\u001b[0m\u001b[1;33m\u001b[0m\u001b[1;33m\u001b[0m\u001b[0m\n\u001b[0;32m      4\u001b[0m \u001b[0maxs\u001b[0m\u001b[1;33m[\u001b[0m\u001b[1;36m0\u001b[0m\u001b[1;33m]\u001b[0m\u001b[1;33m.\u001b[0m\u001b[0mset_ylabel\u001b[0m\u001b[1;33m(\u001b[0m\u001b[1;34m'without_grad'\u001b[0m\u001b[1;33m)\u001b[0m\u001b[1;33m\u001b[0m\u001b[1;33m\u001b[0m\u001b[0m\n\u001b[0;32m      5\u001b[0m \u001b[1;33m\u001b[0m\u001b[0m\n",
      "\u001b[1;32m<ipython-input-1079-fe9e86c99bcf>\u001b[0m in \u001b[0;36mgradient_test\u001b[1;34m(function, gradient, dim_in, dim_out)\u001b[0m\n\u001b[0;32m      6\u001b[0m     \u001b[1;32mfor\u001b[0m \u001b[0mi\u001b[0m \u001b[1;32min\u001b[0m \u001b[0mrange\u001b[0m\u001b[1;33m(\u001b[0m\u001b[1;36m10\u001b[0m\u001b[1;33m)\u001b[0m\u001b[1;33m:\u001b[0m\u001b[1;33m\u001b[0m\u001b[1;33m\u001b[0m\u001b[0m\n\u001b[0;32m      7\u001b[0m         \u001b[0me\u001b[0m \u001b[1;33m=\u001b[0m \u001b[0mnp\u001b[0m\u001b[1;33m.\u001b[0m\u001b[0mpower\u001b[0m\u001b[1;33m(\u001b[0m\u001b[1;36m0.5\u001b[0m\u001b[1;33m,\u001b[0m \u001b[0mi\u001b[0m\u001b[1;33m)\u001b[0m\u001b[1;33m\u001b[0m\u001b[1;33m\u001b[0m\u001b[0m\n\u001b[1;32m----> 8\u001b[1;33m         \u001b[0mwithout_jacobain\u001b[0m\u001b[1;33m.\u001b[0m\u001b[0mappend\u001b[0m\u001b[1;33m(\u001b[0m\u001b[0mnp\u001b[0m\u001b[1;33m.\u001b[0m\u001b[0mlinalg\u001b[0m\u001b[1;33m.\u001b[0m\u001b[0mnorm\u001b[0m\u001b[1;33m(\u001b[0m\u001b[0mfunction\u001b[0m\u001b[1;33m(\u001b[0m\u001b[0mx\u001b[0m \u001b[1;33m+\u001b[0m \u001b[0me\u001b[0m\u001b[1;33m*\u001b[0m\u001b[0md\u001b[0m\u001b[1;33m)\u001b[0m \u001b[1;33m-\u001b[0m \u001b[0mfunction\u001b[0m\u001b[1;33m(\u001b[0m\u001b[0mx\u001b[0m\u001b[1;33m)\u001b[0m\u001b[1;33m)\u001b[0m\u001b[1;33m)\u001b[0m\u001b[1;33m\u001b[0m\u001b[1;33m\u001b[0m\u001b[0m\n\u001b[0m\u001b[0;32m      9\u001b[0m         \u001b[0mwith_jacobain\u001b[0m\u001b[1;33m.\u001b[0m\u001b[0mappend\u001b[0m\u001b[1;33m(\u001b[0m\u001b[0mnp\u001b[0m\u001b[1;33m.\u001b[0m\u001b[0mlinalg\u001b[0m\u001b[1;33m.\u001b[0m\u001b[0mnorm\u001b[0m\u001b[1;33m(\u001b[0m\u001b[0mfunction\u001b[0m\u001b[1;33m(\u001b[0m\u001b[0mx\u001b[0m \u001b[1;33m+\u001b[0m \u001b[0me\u001b[0m\u001b[1;33m*\u001b[0m\u001b[0md\u001b[0m\u001b[1;33m)\u001b[0m \u001b[1;33m-\u001b[0m \u001b[0mfunction\u001b[0m\u001b[1;33m(\u001b[0m\u001b[0mx\u001b[0m\u001b[1;33m)\u001b[0m \u001b[1;33m-\u001b[0m \u001b[0me\u001b[0m\u001b[1;33m*\u001b[0m \u001b[0md\u001b[0m\u001b[1;33m.\u001b[0m\u001b[0mT\u001b[0m\u001b[1;33m.\u001b[0m\u001b[0mdot\u001b[0m\u001b[1;33m(\u001b[0m\u001b[0mgradient\u001b[0m\u001b[1;33m(\u001b[0m\u001b[0mx\u001b[0m\u001b[1;33m)\u001b[0m\u001b[1;33m)\u001b[0m\u001b[1;33m.\u001b[0m\u001b[0mT\u001b[0m\u001b[1;33m)\u001b[0m\u001b[1;33m)\u001b[0m\u001b[1;33m\u001b[0m\u001b[1;33m\u001b[0m\u001b[0m\n\u001b[0;32m     10\u001b[0m     \u001b[1;32mreturn\u001b[0m \u001b[0mwithout_jacobain\u001b[0m\u001b[1;33m,\u001b[0m \u001b[0mwith_jacobain\u001b[0m\u001b[1;33m\u001b[0m\u001b[1;33m\u001b[0m\u001b[0m\n",
      "\u001b[1;32m<ipython-input-953-b30d393d08d6>\u001b[0m in \u001b[0;36m__call__\u001b[1;34m(self, x)\u001b[0m\n\u001b[0;32m     25\u001b[0m         \u001b[0mself\u001b[0m\u001b[1;33m.\u001b[0m\u001b[0m_outputs\u001b[0m\u001b[1;33m.\u001b[0m\u001b[0mappend\u001b[0m\u001b[1;33m(\u001b[0m\u001b[0mnew_x\u001b[0m\u001b[1;33m)\u001b[0m\u001b[1;33m\u001b[0m\u001b[1;33m\u001b[0m\u001b[0m\n\u001b[0;32m     26\u001b[0m         \u001b[1;32mfor\u001b[0m \u001b[0mlayer\u001b[0m \u001b[1;32min\u001b[0m \u001b[0mself\u001b[0m\u001b[1;33m.\u001b[0m\u001b[0m_layers\u001b[0m\u001b[1;33m:\u001b[0m\u001b[1;33m\u001b[0m\u001b[1;33m\u001b[0m\u001b[0m\n\u001b[1;32m---> 27\u001b[1;33m             \u001b[0mnew_x\u001b[0m \u001b[1;33m=\u001b[0m \u001b[0mlayer\u001b[0m\u001b[1;33m(\u001b[0m\u001b[0mnew_x\u001b[0m\u001b[1;33m)\u001b[0m\u001b[1;33m\u001b[0m\u001b[1;33m\u001b[0m\u001b[0m\n\u001b[0m\u001b[0;32m     28\u001b[0m             \u001b[0mself\u001b[0m\u001b[1;33m.\u001b[0m\u001b[0m_outputs\u001b[0m\u001b[1;33m.\u001b[0m\u001b[0mappend\u001b[0m\u001b[1;33m(\u001b[0m\u001b[0mnew_x\u001b[0m\u001b[1;33m)\u001b[0m\u001b[1;33m\u001b[0m\u001b[1;33m\u001b[0m\u001b[0m\n\u001b[0;32m     29\u001b[0m         \u001b[1;32mreturn\u001b[0m \u001b[0mnew_x\u001b[0m\u001b[1;33m\u001b[0m\u001b[1;33m\u001b[0m\u001b[0m\n",
      "\u001b[1;32m<ipython-input-951-c57f738c944e>\u001b[0m in \u001b[0;36m__call__\u001b[1;34m(self, x)\u001b[0m\n\u001b[0;32m     22\u001b[0m \u001b[1;33m\u001b[0m\u001b[0m\n\u001b[0;32m     23\u001b[0m     \u001b[1;32mdef\u001b[0m \u001b[0m__call__\u001b[0m\u001b[1;33m(\u001b[0m\u001b[0mself\u001b[0m\u001b[1;33m,\u001b[0m \u001b[0mx\u001b[0m\u001b[1;33m)\u001b[0m\u001b[1;33m:\u001b[0m\u001b[1;33m\u001b[0m\u001b[1;33m\u001b[0m\u001b[0m\n\u001b[1;32m---> 24\u001b[1;33m         \u001b[1;32mreturn\u001b[0m \u001b[0mself\u001b[0m\u001b[1;33m.\u001b[0m\u001b[0m_activation\u001b[0m\u001b[1;33m(\u001b[0m\u001b[0mself\u001b[0m\u001b[1;33m.\u001b[0m\u001b[0m_A\u001b[0m\u001b[1;33m.\u001b[0m\u001b[0mT\u001b[0m\u001b[1;33m.\u001b[0m\u001b[0mdot\u001b[0m\u001b[1;33m(\u001b[0m\u001b[0mx\u001b[0m\u001b[1;33m)\u001b[0m \u001b[1;33m+\u001b[0m \u001b[0mself\u001b[0m\u001b[1;33m.\u001b[0m\u001b[0m_B\u001b[0m\u001b[1;33m)\u001b[0m\u001b[1;33m\u001b[0m\u001b[1;33m\u001b[0m\u001b[0m\n\u001b[0m",
      "\u001b[1;31mValueError\u001b[0m: shapes (8,5) and (2,1) not aligned: 5 (dim 1) != 2 (dim 0)"
     ]
    }
   ],
   "source": [
    "bla, bla2 = gradient_test(model, lambda x : softmax_gradient(x, Y[:,0].reshape(5,1), model(x)), 2, 5)\n",
    "fig, axs = plt.subplots(2, figsize=(14,14))\n",
    "axs[0].plot(bla)\n",
    "axs[0].set_ylabel('without_grad')\n",
    "\n",
    "axs[1].plot(bla2)\n",
    "axs[1].set_ylabel('with_grad')\n",
    "\n",
    "plt.show()"
   ]
  },
  {
   "cell_type": "code",
   "execution_count": null,
   "id": "96ab4bc7",
   "metadata": {},
   "outputs": [],
   "source": []
  }
 ],
 "metadata": {
  "kernelspec": {
   "display_name": "Python 3",
   "language": "python",
   "name": "python3"
  },
  "language_info": {
   "codemirror_mode": {
    "name": "ipython",
    "version": 3
   },
   "file_extension": ".py",
   "mimetype": "text/x-python",
   "name": "python",
   "nbconvert_exporter": "python",
   "pygments_lexer": "ipython3",
   "version": "3.6.13"
  }
 },
 "nbformat": 4,
 "nbformat_minor": 5
}
