{
 "cells": [
  {
   "cell_type": "code",
   "execution_count": 1,
   "id": "2c047f8d",
   "metadata": {},
   "outputs": [],
   "source": [
    "# Install a conda package in the current Jupyter kernel\n",
    "import sys"
   ]
  },
  {
   "cell_type": "code",
   "execution_count": null,
   "id": "87585e3f",
   "metadata": {},
   "outputs": [],
   "source": [
    "!conda install --yes --prefix {sys.prefix} numpy"
   ]
  },
  {
   "cell_type": "code",
   "execution_count": 1509,
   "id": "e2b4de7e",
   "metadata": {},
   "outputs": [],
   "source": [
    "import numpy as np\n",
    "\n",
    "class softmax:\n",
    "    def gradient(self, X, Y, error, W):\n",
    "        M = X.shape[1]\n",
    "        grad_theta = 1/M * X.dot(error.T)\n",
    "        grad_b = 1/M * np.sum(error, axis=1)\n",
    "        grad_data = 1/M * W.dot(error)\n",
    "        return grad_theta, grad_b, grad_data\n",
    "        \n",
    "    def __call__(self, x):\n",
    "        exp = np.exp(x)\n",
    "        return (exp / np.sum(exp, axis=0))"
   ]
  },
  {
   "cell_type": "code",
   "execution_count": 1510,
   "id": "75e1b5aa",
   "metadata": {},
   "outputs": [],
   "source": [
    "class tanh:\n",
    "    def gradient(self, X, Y, error, W):\n",
    "        error = (1- Y**2) * error\n",
    "        grad_theta = X.dot(error.T)\n",
    "        grad_b = np.sum(error, axis=1)\n",
    "        grad_data = W.dot(error)\n",
    "        return grad_theta, grad_b, grad_data\n",
    "        \n",
    "    def __call__(self, x):\n",
    "        return np.tanh(x)"
   ]
  },
  {
   "cell_type": "code",
   "execution_count": 1511,
   "id": "4815b8fa",
   "metadata": {},
   "outputs": [],
   "source": [
    "class linear_layer:\n",
    "    def __init__(self, dim_in, dim_out, activation=tanh()):\n",
    "        self._A = np.random.normal(.5, .5, size=(dim_in, dim_out))\n",
    "        self._B = np.random.normal(.5, .5, size=(dim_out, 1))\n",
    "        self._activation = activation\n",
    "        self._dim_in = dim_in\n",
    "        self._dim_out = dim_out\n",
    "        \n",
    "    def update_weigths(self, gradient_theta, gradient_b, learning_rate):\n",
    "        gradient_b = gradient_b.reshape(self._dim_out, 1)\n",
    "        self._A = self._A - learning_rate * gradient_theta\n",
    "        self._B = self._B - learning_rate * gradient_b\n",
    "    \n",
    "    def gradient(self, X, Y, error):\n",
    "        return self._activation.gradient(X, Y, error, self._A)\n",
    "    \n",
    "    def dim_in(self):\n",
    "        return self._dim_in\n",
    "    \n",
    "    def dim_out(self):\n",
    "        return self._dim_out\n",
    "    \n",
    "    def __call__(self, x):\n",
    "        return self._activation(self._A.T.dot(x) + self._B)"
   ]
  },
  {
   "cell_type": "code",
   "execution_count": 1512,
   "id": "9f39a7d1",
   "metadata": {},
   "outputs": [],
   "source": [
    "def cross_entropy_loss(y_true, y_predicted, epsilon=1e-10):\n",
    "    predictions = np.clip(y_predicted, epsilon, 1. - epsilon)\n",
    "    M = predictions.shape[1]\n",
    "    return -np.sum(y_true * np.log(predictions)) / M"
   ]
  },
  {
   "cell_type": "code",
   "execution_count": 1529,
   "id": "f9f4be57",
   "metadata": {},
   "outputs": [],
   "source": [
    "class sequential_model:\n",
    "    def __init__(self, *layers, learning_rate=0.1):\n",
    "        self._learning_rate = learning_rate\n",
    "        self._layers = []\n",
    "        self._outputs = []\n",
    "        last_dim_out = 0\n",
    "        for layer in layers:\n",
    "            if last_dim_out != 0 and last_dim_out != layer.dim_in():\n",
    "                print('dimension dont match layer out dim {} , next layer dim in {}'.format(last_dim_out, layer.dim_in()))\n",
    "                raise \n",
    "            self._layers.append(layer)\n",
    "            last_dim_out = layer.dim_out()\n",
    "                \n",
    "    def update_weigths(self, Y_true):\n",
    "        error = self._outputs[-1] - Y_true\n",
    "        for i in range(1, len(self._layers) + 1):\n",
    "            X = self._outputs[-i - 1]\n",
    "            Y = self._outputs[-i]\n",
    "            gradient_theta, gradient_b, error = self._layers[-i].gradient(X, Y, error)\n",
    "            self._layers[-i].update_weigths(gradient_theta, gradient_b, self._learning_rate)\n",
    "            \n",
    "    def __call__(self, x):\n",
    "        new_x = np.array(x, copy=True) \n",
    "        self._outputs = []\n",
    "        self._outputs.append(new_x)\n",
    "        for layer in self._layers:\n",
    "            new_x = layer(new_x)\n",
    "            self._outputs.append(new_x)\n",
    "        return new_x"
   ]
  },
  {
   "cell_type": "code",
   "execution_count": 1530,
   "id": "efb1ac43",
   "metadata": {},
   "outputs": [],
   "source": [
    "model = sequential_model(\n",
    "        linear_layer(2, 5, activation=softmax())\n",
    "        )"
   ]
  },
  {
   "cell_type": "code",
   "execution_count": 1531,
   "id": "c8421e6f",
   "metadata": {},
   "outputs": [
    {
     "name": "stdout",
     "output_type": "stream",
     "text": [
      "Collecting package metadata (current_repodata.json): ...working... done\n",
      "Solving environment: ...working... done\n",
      "\n",
      "# All requested packages already installed.\n",
      "\n"
     ]
    },
    {
     "name": "stderr",
     "output_type": "stream",
     "text": [
      "\n",
      "\n",
      "==> WARNING: A newer version of conda exists. <==\n",
      "  current version: 4.9.1\n",
      "  latest version: 4.10.0\n",
      "\n",
      "Please update conda by running\n",
      "\n",
      "    $ conda update -n base -c defaults conda\n",
      "\n",
      "\n"
     ]
    }
   ],
   "source": [
    "!conda install --yes --prefix {sys.prefix} scipy"
   ]
  },
  {
   "cell_type": "code",
   "execution_count": 1532,
   "id": "fe31f7d9",
   "metadata": {},
   "outputs": [],
   "source": [
    "import scipy.io\n",
    "mat = scipy.io.loadmat('PeaksData.mat')"
   ]
  },
  {
   "cell_type": "code",
   "execution_count": 1533,
   "id": "f0e8aa48",
   "metadata": {},
   "outputs": [
    {
     "name": "stdout",
     "output_type": "stream",
     "text": [
      "(2, 25000)\n",
      "(5, 25000)\n"
     ]
    }
   ],
   "source": [
    "X = mat['Yt']\n",
    "Y = mat['Ct']\n",
    "print(X.shape)\n",
    "print(Y.shape)"
   ]
  },
  {
   "cell_type": "code",
   "execution_count": 1534,
   "id": "3cb2cc55",
   "metadata": {},
   "outputs": [
    {
     "name": "stdout",
     "output_type": "stream",
     "text": [
      "(5, 25000)\n",
      "[1. 1. 1. ... 1. 1. 1.]\n"
     ]
    }
   ],
   "source": [
    "Y_predicted = model(X)\n",
    "print(Y_predicted.shape)\n",
    "print(Y_predicted.sum(axis=0))"
   ]
  },
  {
   "cell_type": "code",
   "execution_count": 1535,
   "id": "c309a785",
   "metadata": {},
   "outputs": [
    {
     "name": "stdout",
     "output_type": "stream",
     "text": [
      "2.033730540597164\n"
     ]
    }
   ],
   "source": [
    "print(cross_entropy_loss(Y, Y_predicted))"
   ]
  },
  {
   "cell_type": "code",
   "execution_count": 1536,
   "id": "ccda9218",
   "metadata": {},
   "outputs": [],
   "source": [
    "def accuracy(Y_true, Y_predicted):\n",
    "    return np.sum(np.argmax(Y_true, axis=0) == np.argmax(Y_predicted, axis=0)) / Y_true.shape[1]"
   ]
  },
  {
   "cell_type": "code",
   "execution_count": 1537,
   "id": "3f4e00bb",
   "metadata": {},
   "outputs": [],
   "source": [
    "def SGD(model, X, Y, epoch):\n",
    "    loss = []\n",
    "    accuracy_sgd = []\n",
    "    for i in range(epoch):\n",
    "        Y_predicted = model(X)\n",
    "        model.update_weigths(Y)\n",
    "        accuracy_sgd.append(accuracy(Y, Y_predicted))\n",
    "        loss.append(cross_entropy_loss(Y, Y_predicted))\n",
    "    return loss, accuracy_sgd"
   ]
  },
  {
   "cell_type": "code",
   "execution_count": 1538,
   "id": "a4b3fdeb",
   "metadata": {},
   "outputs": [
    {
     "data": {
      "image/png": "[encoded data removed]",
      "text/plain": [
       "<Figure size 720x432 with 2 Axes>"
      ]
     },
     "metadata": {
      "needs_background": "light"
     },
     "output_type": "display_data"
    }
   ],
   "source": [
    "import matplotlib.pyplot as plt\n",
    "\n",
    "model_loss, model_accuracy = SGD(model, X, Y, 2000)\n",
    "\n",
    "#fig = plt.figure(figsize=(10,6))\n",
    "\n",
    "fig, axs = plt.subplots(2, figsize=(10,6))\n",
    "axs[0].plot(model_loss)\n",
    "axs[0].set_ylabel('loss')\n",
    "\n",
    "axs[1].plot(model_accuracy)\n",
    "axs[1].set_ylabel('accuracy')\n",
    "\n",
    "plt.show()"
   ]
  },
  {
   "cell_type": "code",
   "execution_count": 1683,
   "id": "1ee5056a",
   "metadata": {},
   "outputs": [],
   "source": [
    "def gradient_test_with_respect_to_inputs(function, gradient, activation, X, Y):\n",
    "    dim_out = Y.shape[0]\n",
    "    dim_in = X.shape[0]\n",
    "    weights = np.random.normal(.5, .5, size=(dim_in, dim_out))\n",
    "    biases = np.random.normal(.5, .5, size=(dim_out, 1))\n",
    "    d = np.random.normal(.5, .5, size=(dim_in, 1))\n",
    "    d = d / np.linalg.norm(d)\n",
    "    without_jacobain = []\n",
    "    with_jacobain = []\n",
    "    for i in range(20):\n",
    "        e = np.power(0.5, i)\n",
    "        vec = e * d\n",
    "        predictions = activation(weights.T.dot(X) + biases)\n",
    "        predictions_d = activation(weights.T.dot(X + vec) + biases)\n",
    "        diff_f = function(Y, predictions_d) - function(Y, predictions)\n",
    "        without_jacobain.append(np.abs(diff_f))\n",
    "        grad_theta, grad_b, grad_data = gradient(X, Y, predictions, weights)\n",
    "        with_jacobain.append(np.linalg.norm(diff_f - vec.T.dot(grad_data)))\n",
    "    return without_jacobain, with_jacobain"
   ]
  },
  {
   "cell_type": "code",
   "execution_count": 1702,
   "id": "04b52a6c",
   "metadata": {},
   "outputs": [],
   "source": [
    "def softmax_gradient(X, Y_true, Y_predicted, W):\n",
    "    grad = Y_predicted - Y_true\n",
    "    grad_theta = X.dot(grad.T)\n",
    "    grad_b = np.sum(grad, axis=1)\n",
    "    grad_data = W.dot(grad)\n",
    "    return grad_theta, grad_b.reshape(Y_true.shape[0], 1), grad_data"
   ]
  },
  {
   "cell_type": "code",
   "execution_count": 1685,
   "id": "73e82d5f",
   "metadata": {},
   "outputs": [
    {
     "data": {
      "image/png": "[encoded data removed]",
      "text/plain": [
       "<Figure size 432x288 with 1 Axes>"
      ]
     },
     "metadata": {
      "needs_background": "light"
     },
     "output_type": "display_data"
    }
   ],
   "source": [
    "test_model = sequential_model(\n",
    "        linear_layer(2, 5, activation=softmax())\n",
    "        )\n",
    "\n",
    "without_grad, with_grad = gradient_test_with_respect_to_inputs(cross_entropy_loss, softmax_gradient, softmax(), X[:, 0].reshape(2,1), Y[:, 0].reshape(5,1))\n",
    "\n",
    "plt.plot(without_grad, label='without_grad')\n",
    "\n",
    "plt.plot(with_grad, label='with_grad')\n",
    "\n",
    "plt.yscale('log')\n",
    "\n",
    "plt.legend()\n",
    "\n",
    "plt.show()"
   ]
  },
  {
   "cell_type": "code",
   "execution_count": 1703,
   "id": "49fa4b58",
   "metadata": {},
   "outputs": [],
   "source": [
    "def gradient_test_with_respect_to_baises(function, gradient, activation, X, Y):\n",
    "    dim_out = Y.shape[0]\n",
    "    dim_in = X.shape[0]\n",
    "    weights = np.random.normal(.5, .5, size=(dim_in, dim_out))\n",
    "    biases = np.random.normal(.5, .5, size=(dim_out, 1))\n",
    "    d = np.random.normal(.5, .5, size=(dim_out, 1))\n",
    "    d = d / np.linalg.norm(d)\n",
    "    without_jacobain = []\n",
    "    with_jacobain = []\n",
    "    for i in range(20):\n",
    "        e = np.power(0.5, i)\n",
    "        vec = e * d\n",
    "        predictions = activation(weights.T.dot(X) + biases)\n",
    "        predictions_d = activation(weights.T.dot(X) + (biases + vec))\n",
    "        diff_f = function(Y, predictions_d) - function(Y, predictions)\n",
    "        without_jacobain.append(np.abs(diff_f))\n",
    "        _, grad_baises, _ = gradient(X, Y, predictions, weights)\n",
    "        with_jacobain.append(np.linalg.norm(diff_f - vec.T.dot(grad_baises)))\n",
    "    return without_jacobain, with_jacobain"
   ]
  },
  {
   "cell_type": "code",
   "execution_count": 1705,
   "id": "a62770d3",
   "metadata": {},
   "outputs": [
    {
     "data": {
      "image/png": "[encoded data removed]",
      "text/plain": [
       "<Figure size 432x288 with 1 Axes>"
      ]
     },
     "metadata": {
      "needs_background": "light"
     },
     "output_type": "display_data"
    }
   ],
   "source": [
    "test_model = sequential_model(\n",
    "        linear_layer(2, 5, activation=softmax())\n",
    "        )\n",
    "\n",
    "without_grad, with_grad = gradient_test_with_respect_to_baises(cross_entropy_loss, softmax_gradient, softmax(), X[:, 0].reshape(2,1), Y[:, 0].reshape(5,1))\n",
    "\n",
    "plt.plot(without_grad, label='without_grad')\n",
    "\n",
    "plt.plot(with_grad, label='with_grad')\n",
    "\n",
    "plt.yscale('log')\n",
    "\n",
    "plt.legend()\n",
    "\n",
    "plt.show()"
   ]
  },
  {
   "cell_type": "code",
   "execution_count": 1726,
   "id": "d09ef9a9",
   "metadata": {},
   "outputs": [],
   "source": [
    "def gradient_test_with_respect_to_weigths(function, gradient, activation, X, Y):\n",
    "    dim_out = Y.shape[0]\n",
    "    dim_in = X.shape[0]\n",
    "    weights = np.random.normal(.5, .5, size=(dim_in, dim_out))\n",
    "    biases = np.random.normal(.5, .5, size=(dim_out, 1))\n",
    "    d = np.random.normal(.5, .5, size=(dim_in, dim_out))\n",
    "    d = d / np.linalg.norm(d)\n",
    "    without_jacobain = []\n",
    "    with_jacobain = []\n",
    "    for i in range(20):\n",
    "        e = np.power(0.5, i)\n",
    "        vec = e * d\n",
    "        predictions = activation(weights.T.dot(X) + biases)\n",
    "        predictions_d = activation((weights + vec).T.dot(X) + biases)\n",
    "        diff_f = function(Y, predictions_d) - function(Y, predictions)\n",
    "        without_jacobain.append(np.abs(diff_f))\n",
    "        grad_theta, _, _ = gradient(X, Y, predictions, weights)\n",
    "        with_jacobain.append(np.linalg.norm(diff_f - (np.ravel(vec) @ np.ravel(grad_theta))))\n",
    "    return without_jacobain, with_jacobain"
   ]
  },
  {
   "cell_type": "code",
   "execution_count": 1727,
   "id": "7307099a",
   "metadata": {},
   "outputs": [
    {
     "data": {
      "image/png": "[encoded data removed]",
      "text/plain": [
       "<Figure size 432x288 with 1 Axes>"
      ]
     },
     "metadata": {
      "needs_background": "light"
     },
     "output_type": "display_data"
    }
   ],
   "source": [
    "test_model = sequential_model(\n",
    "        linear_layer(2, 5, activation=softmax())\n",
    "        )\n",
    "\n",
    "without_grad, with_grad = gradient_test_with_respect_to_weigths(cross_entropy_loss, softmax_gradient, softmax(), X[:, 0].reshape(2,1), Y[:, 0].reshape(5,1))\n",
    "\n",
    "plt.plot(without_grad, label='without_grad')\n",
    "\n",
    "plt.plot(with_grad, label='with_grad')\n",
    "\n",
    "plt.yscale('log')\n",
    "\n",
    "plt.legend()\n",
    "\n",
    "plt.show()"
   ]
  },
  {
   "cell_type": "code",
   "execution_count": 1624,
   "id": "89640808",
   "metadata": {},
   "outputs": [],
   "source": [
    "model = sequential_model(\n",
    "        linear_layer(2, 4, activation=tanh()),\n",
    "        linear_layer(4, 8, activation=tanh()),\n",
    "        linear_layer(8, 5, activation=softmax())\n",
    ")"
   ]
  },
  {
   "cell_type": "code",
   "execution_count": 1543,
   "id": "f7003f07",
   "metadata": {},
   "outputs": [
    {
     "data": {
      "image/png": "[encoded data removed]",
      "text/plain": [
       "<Figure size 720x432 with 2 Axes>"
      ]
     },
     "metadata": {
      "needs_background": "light"
     },
     "output_type": "display_data"
    }
   ],
   "source": [
    "model_loss, model_accuracy = SGD(model, X, Y, 2000)\n",
    "\n",
    "#fig = plt.figure(figsize=(10,6))\n",
    "\n",
    "fig, axs = plt.subplots(2, figsize=(10,6))\n",
    "axs[0].plot(model_loss)\n",
    "axs[0].set_ylabel('loss')\n",
    "\n",
    "axs[1].plot(model_accuracy)\n",
    "axs[1].set_ylabel('accuracy')\n",
    "\n",
    "plt.show()"
   ]
  }
 ],
 "metadata": {
  "kernelspec": {
   "display_name": "Python 3",
   "language": "python",
   "name": "python3"
  },
  "language_info": {
   "codemirror_mode": {
    "name": "ipython",
    "version": 3
   },
   "file_extension": ".py",
   "mimetype": "text/x-python",
   "name": "python",
   "nbconvert_exporter": "python",
   "pygments_lexer": "ipython3",
   "version": "3.6.13"
  }
 },
 "nbformat": 4,
 "nbformat_minor": 5
}
